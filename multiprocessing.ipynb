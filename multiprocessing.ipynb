{
 "cells": [
  {
   "cell_type": "code",
   "execution_count": 5,
   "metadata": {},
   "outputs": [
    {
     "name": "stdout",
     "output_type": "stream",
     "text": [
      "Parent process 78320.\n",
      "Process will start.\n",
      "Process will start.\n",
      "Process will start.\n",
      "Process will start.\n",
      "Process will start.\n",
      "Process ends\n"
     ]
    }
   ],
   "source": [
    "import os\n",
    "from multiprocessing import Process\n",
    "def func(name):\n",
    "    print('Child process {}({}) is running.'.format(name,os.getpid()))\n",
    "if __name__=='__main__':\n",
    "    print('Parent process {}.'.format(os.getpid()))\n",
    "    for i in range(5):\n",
    "        p=Process(target=func,args=(str(i),))\n",
    "        print('Process will start.')\n",
    "        p.start()\n",
    "    p.join()\n",
    "    print('Process ends')"
   ]
  },
  {
   "cell_type": "code",
   "execution_count": 15,
   "metadata": {},
   "outputs": [
    {
     "name": "stdout",
     "output_type": "stream",
     "text": [
      "main line\n",
      "module name: __main__\n",
      "parent process: 66404\n",
      "process id: 78320\n",
      "please press enter.\n"
     ]
    }
   ],
   "source": [
    "from multiprocessing import Process\n",
    "import os\n",
    "def f(name):\n",
    "    info('function f')\n",
    "    print('hello',name)\n",
    "def info(title):\n",
    "    print(title)\n",
    "    print('module name:',__name__)\n",
    "    print('parent process:',os.getppid())\n",
    "    print('process id:',os.getpid())\n",
    "    \n",
    "if __name__=='__main__':\n",
    "    info('main line')\n",
    "    p=Process(target=f,args=('bob',))\n",
    "    p.start()\n",
    "    p.join()\n",
    "    input('please press enter.')\n",
    "    "
   ]
  },
  {
   "cell_type": "code",
   "execution_count": 18,
   "metadata": {},
   "outputs": [
    {
     "data": {
      "text/plain": [
       "['D:\\\\applications\\\\anaconda\\\\lib\\\\site-packages\\\\ipykernel_launcher.py',\n",
       " '-f',\n",
       " 'C:\\\\Users\\\\方欢\\\\AppData\\\\Roaming\\\\jupyter\\\\runtime\\\\kernel-483101d8-edfa-484a-8e10-0e45981f40d8.json']"
      ]
     },
     "execution_count": 18,
     "metadata": {},
     "output_type": "execute_result"
    }
   ],
   "source": [
    "import sys\n",
    "sys.argv"
   ]
  },
  {
   "cell_type": "markdown",
   "metadata": {},
   "source": [
    "# 这是第一个markdown"
   ]
  },
  {
   "cell_type": "markdown",
   "metadata": {},
   "source": [
    "<span style=\"color:red\">word</span>\n",
    "`word`\n",
    "1. 做学习笔记，进行积累 复习\n",
    "2. 将自己的学习成果进行展示\n",
    "3. 展示项目"
   ]
  }
 ],
 "metadata": {
  "celltoolbar": "Raw Cell Format",
  "kernelspec": {
   "display_name": "Python 3",
   "language": "python",
   "name": "python3"
  },
  "language_info": {
   "codemirror_mode": {
    "name": "ipython",
    "version": 3
   },
   "file_extension": ".py",
   "mimetype": "text/x-python",
   "name": "python",
   "nbconvert_exporter": "python",
   "pygments_lexer": "ipython3",
   "version": "3.6.4"
  }
 },
 "nbformat": 4,
 "nbformat_minor": 2
}
